{
 "cells": [
  {
   "cell_type": "markdown",
   "id": "unique-sterling",
   "metadata": {},
   "source": [
    "# ValueError with `az.plot_joint()`"
   ]
  },
  {
   "cell_type": "markdown",
   "id": "driving-representative",
   "metadata": {},
   "source": [
    "I am trying to reproduce one the plots in Osvaldo Martin's GitHub.\n",
    "I want to plot the figure displayed at **cell 16** of [his Jupyter Notebook](https://github.com/aloctavodia/BAP/blob/master/code/Chp2/02%20Programming%20probabilistically.ipynb).\n",
    "\n",
    "Unfortunately, I get an error: `Number of rows must be a positive integer, not 0` — see below."
   ]
  },
  {
   "cell_type": "markdown",
   "id": "consolidated-harvard",
   "metadata": {},
   "source": [
    "## Setup"
   ]
  },
  {
   "cell_type": "code",
   "execution_count": 1,
   "id": "public-brisbane",
   "metadata": {},
   "outputs": [
    {
     "name": "stderr",
     "output_type": "stream",
     "text": [
      "WARNING (theano.configdefaults): g++ not available, if using conda: `conda install m2w64-toolchain`\n",
      "WARNING (theano.configdefaults): g++ not detected ! Theano will be unable to execute optimized C-implementations (for both CPU and GPU) and will default to Python implementations. Performance will be severely degraded. To remove this warning, set Theano flags cxx to an empty string.\n",
      "WARNING (theano.tensor.blas): Using NumPy C-API based implementation for BLAS functions.\n"
     ]
    }
   ],
   "source": [
    "# import required modules\n",
    "import numpy as np\n",
    "import pymc3 as pm\n",
    "import arviz as az"
   ]
  },
  {
   "cell_type": "code",
   "execution_count": 2,
   "id": "alternative-draft",
   "metadata": {},
   "outputs": [],
   "source": [
    "# load data\n",
    "data = np.array( [51.06, 55.12, 53.73, 50.24, 52.05, 56.40, 48.45, 52.34, 55.65, 51.49, 51.86, 63.43, \n",
    "                  53.00, 56.09, 51.93, 52.31, 52.33, 57.48, 57.44, 55.14, 53.93, 54.62, 56.09, 68.58, \n",
    "                  51.36, 55.47, 50.73, 51.94, 54.95, 50.39, 52.91, 51.50, 52.68, 47.72, 49.73, 51.82, \n",
    "                  54.99, 52.84, 53.19, 54.52, 51.46, 53.73, 51.61, 49.81, 52.42, 54.30, 53.84, 53.16] )"
   ]
  },
  {
   "cell_type": "code",
   "execution_count": 3,
   "id": "perceived-amazon",
   "metadata": {},
   "outputs": [
    {
     "name": "stderr",
     "output_type": "stream",
     "text": [
      "<ipython-input-3-f502eef3269c>:12: FutureWarning: In v4.0, pm.sample will return an `arviz.InferenceData` object instead of a `MultiTrace` by default. You can pass return_inferencedata=True or return_inferencedata=False to be safe and silence this warning.\n",
      "  trace_g = pm.sample(1000)\n",
      "Auto-assigning NUTS sampler...\n",
      "Initializing NUTS using jitter+adapt_diag...\n",
      "C:\\Users\\Valerio\\anaconda3\\envs\\bap\\lib\\site-packages\\theano\\tensor\\elemwise.py:826: RuntimeWarning: invalid value encountered in log\n",
      "  variables = ufunc(*ufunc_args, **ufunc_kwargs)\n",
      "Multiprocess sampling (4 chains in 4 jobs)\n",
      "NUTS: [σ, μ]\n"
     ]
    },
    {
     "data": {
      "text/html": [
       "\n",
       "    <div>\n",
       "        <style>\n",
       "            /* Turns off some styling */\n",
       "            progress {\n",
       "                /* gets rid of default border in Firefox and Opera. */\n",
       "                border: none;\n",
       "                /* Needs to be in here for Safari polyfill so background images work as expected. */\n",
       "                background-size: auto;\n",
       "            }\n",
       "            .progress-bar-interrupted, .progress-bar-interrupted::-webkit-progress-bar {\n",
       "                background: #F44336;\n",
       "            }\n",
       "        </style>\n",
       "      <progress value='8000' class='' max='8000' style='width:300px; height:20px; vertical-align: middle;'></progress>\n",
       "      100.00% [8000/8000 00:53<00:00 Sampling 4 chains, 0 divergences]\n",
       "    </div>\n",
       "    "
      ],
      "text/plain": [
       "<IPython.core.display.HTML object>"
      ]
     },
     "metadata": {},
     "output_type": "display_data"
    },
    {
     "name": "stderr",
     "output_type": "stream",
     "text": [
      "Sampling 4 chains for 1_000 tune and 1_000 draw iterations (4_000 + 4_000 draws total) took 66 seconds.\n"
     ]
    }
   ],
   "source": [
    "# run PyMC3 model\n",
    "with pm.Model() as model_g:\n",
    "    # specify priors\n",
    "    μ = pm.Uniform(\"μ\", lower = 40, upper = 70)\n",
    "    σ = pm.HalfNormal(\"σ\", sd = 10)\n",
    "    \n",
    "    # specify likelihood\n",
    "    y = pm.Normal(\"y\", mu = μ, sd = σ,\n",
    "                 observed = data)\n",
    "    \n",
    "    # start sampling\n",
    "    trace_g = pm.sample(1000)"
   ]
  },
  {
   "cell_type": "markdown",
   "id": "acoustic-career",
   "metadata": {},
   "source": [
    "## The error"
   ]
  },
  {
   "cell_type": "markdown",
   "id": "unlike-congress",
   "metadata": {},
   "source": [
    "The `az.plot_joint()` function is deprecated and used to throw the error:\n",
    "\n",
    "```\n",
    "ValueError: Number of rows must be a positive integer, not 0\n",
    "```"
   ]
  },
  {
   "cell_type": "code",
   "execution_count": 4,
   "id": "seeing-luxembourg",
   "metadata": {},
   "outputs": [
    {
     "name": "stderr",
     "output_type": "stream",
     "text": [
      "C:\\Users\\Valerio\\anaconda3\\envs\\bap\\lib\\site-packages\\arviz\\plots\\jointplot.py:144: UserWarning: plot_joint will be deprecated. Please use plot_pair instead.\n",
      "  warnings.warn(\"plot_joint will be deprecated. Please use plot_pair instead.\")\n",
      "C:\\Users\\Valerio\\anaconda3\\envs\\bap\\lib\\site-packages\\arviz\\data\\io_pymc3.py:96: FutureWarning: Using `from_pymc3` without the model will be deprecated in a future release. Not using the model will return less accurate and less useful results. Make sure you use the model argument or call from_pymc3 within a model context.\n",
      "  warnings.warn(\n"
     ]
    },
    {
     "data": {
      "text/plain": [
       "array([<AxesSubplot:xlabel='μ', ylabel='σ'>, <AxesSubplot:>,\n",
       "       <AxesSubplot:>], dtype=object)"
      ]
     },
     "execution_count": 4,
     "metadata": {},
     "output_type": "execute_result"
    },
    {
     "name": "stderr",
     "output_type": "stream",
     "text": [
      "C:\\Users\\Valerio\\anaconda3\\envs\\bap\\lib\\site-packages\\IPython\\core\\pylabtools.py:132: UserWarning: constrained_layout not applied.  At least one axes collapsed to zero width or height.\n",
      "  fig.canvas.print_figure(bytes_io, **kw)\n"
     ]
    },
    {
     "data": {
      "image/png": "[encoded data removed]",
      "text/plain": [
       "<Figure size 432x288 with 3 Axes>"
      ]
     },
     "metadata": {
      "needs_background": "light"
     },
     "output_type": "display_data"
    }
   ],
   "source": [
    "# plot posteriors with plot_joint\n",
    "az.plot_joint(trace_g, kind = \"kde\", fill_last = False)"
   ]
  },
  {
   "cell_type": "markdown",
   "id": "soviet-scanner",
   "metadata": {},
   "source": [
    "## Solution"
   ]
  },
  {
   "cell_type": "markdown",
   "id": "coordinate-virginia",
   "metadata": {},
   "source": [
    "Thanks to [OriolAbril](https://github.com/OriolAbril) and [ahartikainen](https://github.com/ahartikainen), who provided the solution [here](https://github.com/arviz-devs/arviz/issues/1633#issuecomment-807308617)."
   ]
  },
  {
   "cell_type": "code",
   "execution_count": 5,
   "id": "inner-stroke",
   "metadata": {},
   "outputs": [
    {
     "name": "stderr",
     "output_type": "stream",
     "text": [
      "C:\\Users\\Valerio\\anaconda3\\envs\\bap\\lib\\site-packages\\arviz\\data\\io_pymc3.py:96: FutureWarning: Using `from_pymc3` without the model will be deprecated in a future release. Not using the model will return less accurate and less useful results. Make sure you use the model argument or call from_pymc3 within a model context.\n",
      "  warnings.warn(\n"
     ]
    },
    {
     "data": {
      "text/plain": [
       "array([[<AxesSubplot:>, None],\n",
       "       [<AxesSubplot:xlabel='μ', ylabel='σ'>, <AxesSubplot:>]],\n",
       "      dtype=object)"
      ]
     },
     "execution_count": 5,
     "metadata": {},
     "output_type": "execute_result"
    },
    {
     "data": {
      "image/png": "[encoded data removed]",
      "text/plain": [
       "<Figure size 432x288 with 3 Axes>"
      ]
     },
     "metadata": {
      "needs_background": "light"
     },
     "output_type": "display_data"
    }
   ],
   "source": [
    "# use plot_pair instead of plot_joint!!!\n",
    "az.plot_pair(trace_g, kind = \"kde\", fill_last = False, marginals = True)"
   ]
  }
 ],
 "metadata": {
  "kernelspec": {
   "display_name": "bap",
   "language": "python",
   "name": "bap"
  },
  "language_info": {
   "codemirror_mode": {
    "name": "ipython",
    "version": 3
   },
   "file_extension": ".py",
   "mimetype": "text/x-python",
   "name": "python",
   "nbconvert_exporter": "python",
   "pygments_lexer": "ipython3",
   "version": "3.9.2"
  }
 },
 "nbformat": 4,
 "nbformat_minor": 5
}
