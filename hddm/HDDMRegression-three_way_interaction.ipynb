{
 "cells": [
  {
   "cell_type": "markdown",
   "metadata": {},
   "source": [
    "# Getting started"
   ]
  },
  {
   "cell_type": "markdown",
   "metadata": {},
   "source": [
    "## Python libraries"
   ]
  },
  {
   "cell_type": "code",
   "execution_count": 1,
   "metadata": {},
   "outputs": [],
   "source": [
    "# IMPORT LIBRARIES\n",
    "\n",
    "# utils\n",
    "import warnings                     # for suppressing warnings\n",
    "warnings.filterwarnings('ignore')   \n",
    "\n",
    "import os                           # for interfacing Python with the OS\n",
    "import platform\n",
    "import random                       # for generating random numbers with base Python\n",
    "from   pyprojroot import here       # for using relative paths\n",
    "import datetime                     # for manipulating date and time variables\n",
    "from   datetime import date\n",
    "import time\n",
    "import csv                          # for exporting data to csv files\n",
    "\n",
    "import numpy as np                  # for scientific computing \n",
    "import pandas as pd                 # for handling data\n",
    "import seaborn as sns               # for plotting data\n",
    "import matplotlib\n",
    "matplotlib.use('Agg')               \n",
    "from   matplotlib import pyplot as plt\n",
    "\n",
    "\n",
    "# HDDM\n",
    "import hddm                         # for fitting HDDM\n",
    "from   patsy import dmatrix         # for building design matrices"
   ]
  },
  {
   "cell_type": "markdown",
   "metadata": {},
   "source": [
    "## Reproducibility"
   ]
  },
  {
   "cell_type": "code",
   "execution_count": 2,
   "metadata": {},
   "outputs": [],
   "source": [
    "# SET SEED\n",
    "\n",
    "# set seed value\n",
    "seed_value = 3112\n",
    "\n",
    "# set PYTHONHASHSEED pseudo-random generator at a fixed value\n",
    "os.environ['PYTHONHASHSEED'] = str(seed_value)\n",
    "\n",
    "# set random pseudo-random generator at a fixed value\n",
    "random.seed(seed_value) \n",
    "\n",
    "# set numpy pseudo-random generator at a fixed value\n",
    "np.random.seed(seed_value)"
   ]
  },
  {
   "cell_type": "code",
   "execution_count": 3,
   "metadata": {},
   "outputs": [
    {
     "name": "stdout",
     "output_type": "stream",
     "text": [
      "STANDARD \t SYSTEM \t RELEASE\n",
      "--------------------------------------------------\n",
      "posix\t\t Linux\t\t 5.8.0-44-generic\n",
      "\n",
      "\n"
     ]
    }
   ],
   "source": [
    "# OPERATING SYSTEM\n",
    "\n",
    "print( \"STANDARD \\t SYSTEM \\t RELEASE\" )\n",
    "print( \"--------------------------------------------------\" )\n",
    "print( os.name + \"\\t\\t \" + platform.system() + \"\\t\\t \" + platform.release() )\n",
    "print( \"\\n\" )"
   ]
  },
  {
   "cell_type": "code",
   "execution_count": 4,
   "metadata": {},
   "outputs": [
    {
     "name": "stdout",
     "output_type": "stream",
     "text": [
      "HDDM version used: 0.8.0\n",
      "\n",
      "\n"
     ]
    }
   ],
   "source": [
    "# HDDM PACKAGE USED\n",
    "\n",
    "print( \"HDDM version used: \" + hddm.__version__ )\n",
    "print( \"\\n\" )"
   ]
  },
  {
   "cell_type": "markdown",
   "metadata": {},
   "source": [
    "## Project info"
   ]
  },
  {
   "cell_type": "code",
   "execution_count": 5,
   "metadata": {},
   "outputs": [],
   "source": [
    "# PROJECT'S NAME\n",
    "\n",
    "proj_name = \"hddm_wit\""
   ]
  },
  {
   "cell_type": "code",
   "execution_count": 6,
   "metadata": {},
   "outputs": [
    {
     "name": "stdout",
     "output_type": "stream",
     "text": [
      "Current working directory: \n",
      "\n",
      "\t/home/valerio/Downloads/sos\n",
      "\n",
      "\n"
     ]
    }
   ],
   "source": [
    "# PROJECT'S DIRECTORIES\n",
    "\n",
    "root_folder = here()  # project's root folder\n",
    "\n",
    "print( \"Current working directory: \\n\\n\" + \"\\t\" + str(root_folder) )\n",
    "print( \"\\n\" )"
   ]
  },
  {
   "cell_type": "markdown",
   "metadata": {},
   "source": [
    "## Behavioural data"
   ]
  },
  {
   "cell_type": "code",
   "execution_count": 7,
   "metadata": {},
   "outputs": [],
   "source": [
    "# LOAD DATA\n",
    "\n",
    "# data filename\n",
    "my_csv = \"wit_hddm.csv\"\n",
    "\n",
    "# read data from csv file\n",
    "data = hddm.load_csv( os.path.join(os.path.join(root_folder, \"_ignore\", my_csv)) )"
   ]
  },
  {
   "cell_type": "code",
   "execution_count": 8,
   "metadata": {},
   "outputs": [
    {
     "data": {
      "text/html": [
       "<div>\n",
       "<style scoped>\n",
       "    .dataframe tbody tr th:only-of-type {\n",
       "        vertical-align: middle;\n",
       "    }\n",
       "\n",
       "    .dataframe tbody tr th {\n",
       "        vertical-align: top;\n",
       "    }\n",
       "\n",
       "    .dataframe thead th {\n",
       "        text-align: right;\n",
       "    }\n",
       "</style>\n",
       "<table border=\"1\" class=\"dataframe\">\n",
       "  <thead>\n",
       "    <tr style=\"text-align: right;\">\n",
       "      <th></th>\n",
       "      <th>subj_idx</th>\n",
       "      <th>heart</th>\n",
       "      <th>prime</th>\n",
       "      <th>stim</th>\n",
       "      <th>response</th>\n",
       "      <th>rt</th>\n",
       "    </tr>\n",
       "  </thead>\n",
       "  <tbody>\n",
       "    <tr>\n",
       "      <th>0</th>\n",
       "      <td>0</td>\n",
       "      <td>0</td>\n",
       "      <td>0</td>\n",
       "      <td>1</td>\n",
       "      <td>1</td>\n",
       "      <td>0.424</td>\n",
       "    </tr>\n",
       "    <tr>\n",
       "      <th>1</th>\n",
       "      <td>0</td>\n",
       "      <td>0</td>\n",
       "      <td>0</td>\n",
       "      <td>1</td>\n",
       "      <td>1</td>\n",
       "      <td>0.439</td>\n",
       "    </tr>\n",
       "    <tr>\n",
       "      <th>2</th>\n",
       "      <td>0</td>\n",
       "      <td>0</td>\n",
       "      <td>1</td>\n",
       "      <td>1</td>\n",
       "      <td>1</td>\n",
       "      <td>0.368</td>\n",
       "    </tr>\n",
       "    <tr>\n",
       "      <th>3</th>\n",
       "      <td>0</td>\n",
       "      <td>0</td>\n",
       "      <td>1</td>\n",
       "      <td>1</td>\n",
       "      <td>1</td>\n",
       "      <td>0.429</td>\n",
       "    </tr>\n",
       "    <tr>\n",
       "      <th>4</th>\n",
       "      <td>0</td>\n",
       "      <td>1</td>\n",
       "      <td>0</td>\n",
       "      <td>0</td>\n",
       "      <td>1</td>\n",
       "      <td>0.460</td>\n",
       "    </tr>\n",
       "    <tr>\n",
       "      <th>5</th>\n",
       "      <td>0</td>\n",
       "      <td>0</td>\n",
       "      <td>1</td>\n",
       "      <td>1</td>\n",
       "      <td>1</td>\n",
       "      <td>0.527</td>\n",
       "    </tr>\n",
       "    <tr>\n",
       "      <th>6</th>\n",
       "      <td>0</td>\n",
       "      <td>1</td>\n",
       "      <td>0</td>\n",
       "      <td>0</td>\n",
       "      <td>0</td>\n",
       "      <td>0.460</td>\n",
       "    </tr>\n",
       "    <tr>\n",
       "      <th>7</th>\n",
       "      <td>0</td>\n",
       "      <td>1</td>\n",
       "      <td>1</td>\n",
       "      <td>0</td>\n",
       "      <td>0</td>\n",
       "      <td>0.446</td>\n",
       "    </tr>\n",
       "    <tr>\n",
       "      <th>8</th>\n",
       "      <td>0</td>\n",
       "      <td>0</td>\n",
       "      <td>0</td>\n",
       "      <td>0</td>\n",
       "      <td>0</td>\n",
       "      <td>0.471</td>\n",
       "    </tr>\n",
       "    <tr>\n",
       "      <th>9</th>\n",
       "      <td>0</td>\n",
       "      <td>0</td>\n",
       "      <td>1</td>\n",
       "      <td>0</td>\n",
       "      <td>0</td>\n",
       "      <td>0.512</td>\n",
       "    </tr>\n",
       "  </tbody>\n",
       "</table>\n",
       "</div>"
      ],
      "text/plain": [
       "   subj_idx heart prime stim response     rt\n",
       "0         0     0     0    1        1  0.424\n",
       "1         0     0     0    1        1  0.439\n",
       "2         0     0     1    1        1  0.368\n",
       "3         0     0     1    1        1  0.429\n",
       "4         0     1     0    0        1  0.460\n",
       "5         0     0     1    1        1  0.527\n",
       "6         0     1     0    0        0  0.460\n",
       "7         0     1     1    0        0  0.446\n",
       "8         0     0     0    0        0  0.471\n",
       "9         0     0     1    0        0  0.512"
      ]
     },
     "execution_count": 8,
     "metadata": {},
     "output_type": "execute_result"
    }
   ],
   "source": [
    "# CLEAN UP DATA\n",
    "\n",
    "# rename variables\n",
    "data.rename( columns = {'response':'accuracy', \n",
    "                        'key_pressed':'response'},\n",
    "             inplace = True )\n",
    "\n",
    "\n",
    "# recode data\n",
    "data.loc[data['heart']    == 'systole' , 'heart'   ] = 1  # systolic   trials      are   1s\n",
    "data.loc[data['heart']    == 'diastole', 'heart'   ] = 0  # diastolic  trials      are   0s\n",
    "\n",
    "data.loc[data['prime']    == 'black'   , 'prime'   ] = 1  # black      primes      are   1s\n",
    "data.loc[data['prime']    == 'white'   , 'prime'   ] = 0  # white      primes      are   0s\n",
    "data.loc[data['stim']     == 'gun'     , 'stim'    ] = 1  # gun        targets     are   1s\n",
    "data.loc[data['stim']     == 'tool'    , 'stim'    ] = 0  # tool       targets     are   0s\n",
    "\n",
    "data.loc[data['response'] == 'G'       , 'response'] = 1  # gun        responses   are   1s\n",
    "data.loc[data['response'] == 'T'       , 'response'] = 0  # tool       responses   are   0s\n",
    "\n",
    "\n",
    "# remove extra variables\n",
    "data = data.drop( ['stereo_congr', 'seq_congr',\n",
    "                   'trial_no'    , 'accuracy' ,\n",
    "                   'conds_all'],\n",
    "                    axis = 1 )\n",
    "\n",
    "\n",
    "# check data\n",
    "data.head(10)"
   ]
  },
  {
   "cell_type": "markdown",
   "metadata": {},
   "source": [
    "### Data coding\n",
    "Data were coded according to the scheme displayed in the table.\n",
    "\n",
    "| Coding  | Heart     | Prime  | Target | Response  |\n",
    "|--------:|:----------|:-------|:-------|:----------|\n",
    "|**0**    | Diastole  | White  | Tool   | TOOL key  |\n",
    "|**1**    | *Systole* |*Black* | *Gun*  | *GUN key* |"
   ]
  },
  {
   "cell_type": "markdown",
   "metadata": {},
   "source": [
    "# HDDM"
   ]
  },
  {
   "cell_type": "markdown",
   "metadata": {},
   "source": [
    "The model is response-coded. $ \\quad \\Rightarrow \\quad \\text{Tool} = 0 \\quad\\quad \\text{Gun} = 1$"
   ]
  },
  {
   "cell_type": "markdown",
   "metadata": {},
   "source": [
    "## Preliminary steps"
   ]
  },
  {
   "cell_type": "code",
   "execution_count": 9,
   "metadata": {},
   "outputs": [],
   "source": [
    "# DEFINE LINK FUNCTION FOR DECISION BIAS\n",
    "\n",
    "def z_link_func( x, data = data ):\n",
    "        stim = ( dmatrix( \"0 + C(s, [[1], [-1]])\",\n",
    "                                     { 's': data.stim.loc[x.index] },\n",
    "                                     return_type = 'dataframe' )\n",
    "                     )\n",
    "        \n",
    "        return 1 / ( 1 + np.exp( -np.multiply(x.to_frame(), stim) ) )"
   ]
  },
  {
   "cell_type": "code",
   "execution_count": 10,
   "metadata": {},
   "outputs": [],
   "source": [
    "# SET INFO FOR SAVING MODEL\n",
    "\n",
    "# model's name\n",
    "mdl_name = \"HDDMRegr-three_way_interact\"\n",
    "\n",
    "# pickle's database info\n",
    "db_name  = \"model__\" + mdl_name + \".db\"\n",
    "db       = 'pickle'"
   ]
  },
  {
   "cell_type": "markdown",
   "metadata": {},
   "source": [
    "## Set model"
   ]
  },
  {
   "cell_type": "markdown",
   "metadata": {},
   "source": [
    "### MCMC"
   ]
  },
  {
   "cell_type": "code",
   "execution_count": 11,
   "metadata": {},
   "outputs": [
    {
     "name": "stdout",
     "output_type": "stream",
     "text": [
      "\t MCMC info: \n",
      "\n",
      "SAMPLES \t BURN-INS\n",
      "------------------------------\n",
      "500\t\t 50\n",
      "\n"
     ]
    }
   ],
   "source": [
    "# SET MCMC PARAMETERS\n",
    "\n",
    "n_sample = 500  # number of sampling\n",
    "n_burn   = 50   # number of burn-ins\n",
    "\n",
    "print(\"\\t MCMC info: \\n\")\n",
    "print( \"SAMPLES \\t BURN-INS\" )\n",
    "print( \"------------------------------\" )\n",
    "print( str(n_sample) + \"\\t\\t \" + str(n_burn) + \"\\n\" )"
   ]
  },
  {
   "cell_type": "markdown",
   "metadata": {},
   "source": [
    "### Regressions"
   ]
  },
  {
   "cell_type": "code",
   "execution_count": 12,
   "metadata": {},
   "outputs": [],
   "source": [
    "# SPECIFY REGRESSION EQUATIONS\n",
    "\n",
    "v_reg = { 'model': 'v ~ 0 + C(heart)*C(prime)*C(stim)', 'link_func': lambda x:x  }\n",
    "z_reg = { 'model': 'z ~ 0 + C(heart)*C(prime)'        , 'link_func': z_link_func }\n",
    "\n",
    "# regressions' descriptor\n",
    "regr_descr = [v_reg, z_reg]"
   ]
  },
  {
   "cell_type": "markdown",
   "metadata": {},
   "source": [
    "## Retrieve parameters' estimates"
   ]
  },
  {
   "cell_type": "code",
   "execution_count": 13,
   "metadata": {},
   "outputs": [
    {
     "name": "stdout",
     "output_type": "stream",
     "text": [
      "Fitting HDDM...\n",
      "\n",
      "Model fitting started on 12-Apr-2021 at 13:55:05.\n",
      "\n",
      "\n",
      "Adding these covariates:\n",
      "['v_C(heart)[0]', 'v_C(heart)[1]', 'v_C(prime)[T.1]', 'v_C(stim)[T.1]', 'v_C(heart)[T.1]:C(prime)[T.1]', 'v_C(heart)[T.1]:C(stim)[T.1]', 'v_C(prime)[T.1]:C(stim)[T.1]', 'v_C(heart)[T.1]:C(prime)[T.1]:C(stim)[T.1]']\n",
      "Adding these covariates:\n",
      "['z_C(heart)[0]', 'z_C(heart)[1]', 'z_C(prime)[T.1]', 'z_C(heart)[T.1]:C(prime)[T.1]']\n",
      " [-----------------100%-----------------] 501 of 500 complete in 5118.5 secModel fitting ended on 12-Apr-2021 at 15:23:02.\n",
      "\n",
      "--------------------------------------------------\n",
      "\n",
      "\n",
      "HDDM finished fitting HDDMRegr-three_way_interact on 2021-04-12.\n",
      "HDDMRegr-three_way_interact took 1:27:57 (hh:mm:ss).\n",
      "\n"
     ]
    }
   ],
   "source": [
    "# HDDM FITTED\n",
    "\n",
    "\n",
    "# FIT MODEL\n",
    "print( \"Fitting HDDM...\\n\" )\n",
    "\n",
    "# ### stopwatch starts\n",
    "start_time = datetime.datetime.now()\n",
    "\n",
    "print( \"Model fitting started on %s at %s.\\n\\n\" %( start_time.strftime(\"%d-%b-%Y\"), start_time.strftime(\"%H:%M:%S\") ) )\n",
    "\n",
    "#=+=+=+=+=+=+=+=+=+=+=+=+=+=+=+=+=+=+=+=+=+=+=+=+=+=+=+=+=+=+=+=+=+=+=+=+=+=+=+\n",
    "\n",
    "\n",
    "# HDDM\n",
    "my_model = hddm.HDDMRegressor(\n",
    "                               # feed data in\n",
    "                               data,\n",
    "                               # regressions\n",
    "                               regr_descr,\n",
    "                               # estimate and manage outliers\n",
    "                               p_outlier = 0.05,\n",
    "                               # include the following params\n",
    "                               include   = ('z'),  # 's*' params allow for\n",
    "                                                   #      inter-trial variability\n",
    "                               # estimate effect of regressors for each subject\n",
    "                               group_only_regressors = False\n",
    ")\n",
    "\n",
    "# find a good starting point for facilitating model's convergence\n",
    "my_model.find_starting_values()\n",
    "\n",
    "# MCMC sampling\n",
    "my_model.sample( n_sample, burn   = n_burn,\n",
    "                           dbname = db_name, \n",
    "                           db     = db )\n",
    "\n",
    "\n",
    "#=+=+=+=+=+=+=+=+=+=+=+=+=+=+=+=+=+=+=+=+=+=+=+=+=+=+=+=+=+=+=+=+=+=+=+=+=+=+=+\n",
    "\n",
    "# ### stopwatch ends\n",
    "end_time = datetime.datetime.now()\n",
    "\n",
    "print( \"Model fitting ended on %s at %s.\\n\" %( end_time.strftime(\"%d-%b-%Y\"), end_time.strftime(\"%H:%M:%S\") ) )\n",
    "\n",
    "\n",
    "\n",
    "# today's date\n",
    "date_today = date.today().strftime(\"%Y-%m-%d\")\n",
    "\n",
    "# print how long it took to run the model\n",
    "delta_time = end_time - start_time\n",
    "print( \"--------------------------------------------------\\n\\n\" )\n",
    "print( \"HDDM finished fitting %s on %s.\\n%s took %s (hh:mm:ss).\\n\" %( mdl_name, date_today, mdl_name, str(delta_time).split(\".\")[0] ) )"
   ]
  }
 ],
 "metadata": {
  "kernelspec": {
   "display_name": "Python 3",
   "language": "python",
   "name": "python3"
  },
  "language_info": {
   "codemirror_mode": {
    "name": "ipython",
    "version": 3
   },
   "file_extension": ".py",
   "mimetype": "text/x-python",
   "name": "python",
   "nbconvert_exporter": "python",
   "pygments_lexer": "ipython3",
   "version": "3.7.7"
  }
 },
 "nbformat": 4,
 "nbformat_minor": 4
}
